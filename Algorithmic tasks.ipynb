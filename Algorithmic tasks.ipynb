{
 "cells": [
  {
   "cell_type": "markdown",
   "metadata": {},
   "source": [
    "### LeetCode algorithmic tasks\n",
    "\n",
    "* [Easy](#easy)"
   ]
  },
  {
   "cell_type": "code",
   "execution_count": 30,
   "metadata": {},
   "outputs": [],
   "source": [
    "import numpy as np"
   ]
  },
  {
   "cell_type": "markdown",
   "metadata": {},
   "source": [
    "**Easy tasks** <a class=\"anchor\" id=\"easy\"></a>"
   ]
  },
  {
   "cell_type": "code",
   "execution_count": 5,
   "metadata": {},
   "outputs": [
    {
     "data": {
      "text/plain": [
       "[0, 1]"
      ]
     },
     "execution_count": 5,
     "metadata": {},
     "output_type": "execute_result"
    }
   ],
   "source": [
    "def twoSum(nums, target):\n",
    "    var1 = 0\n",
    "    var2 = 0\n",
    "    sol = []\n",
    "    for i, item_i in enumerate(nums):\n",
    "        var1 = item_i\n",
    "        for j in range(i+1, len(nums)):\n",
    "            var2 = nums[j]\n",
    "            if (var1+var2)  == target:\n",
    "                sol = [i, j]\n",
    "    return sol\n",
    "\n",
    "twoSum([2, 7, 11, 15], 9)"
   ]
  },
  {
   "cell_type": "code",
   "execution_count": 33,
   "metadata": {},
   "outputs": [
    {
     "data": {
      "text/plain": [
       "-321"
      ]
     },
     "execution_count": 33,
     "metadata": {},
     "output_type": "execute_result"
    }
   ],
   "source": [
    "def reverse(x: int) -> int:\n",
    "    a = 0\n",
    "    if str(x)[0] == '-':\n",
    "        a = -1*int(str(x)[::-1][:-1])\n",
    "    else:\n",
    "        a = int(str(x)[::-1])\n",
    "\n",
    "    if (a < 2**31 - 1) and (a > -2**31):\n",
    "        return a\n",
    "    else: \n",
    "        return 0\n",
    "\n",
    "reverse(-123)"
   ]
  },
  {
   "cell_type": "code",
   "execution_count": 8,
   "metadata": {},
   "outputs": [
    {
     "data": {
      "text/plain": [
       "True"
      ]
     },
     "execution_count": 8,
     "metadata": {},
     "output_type": "execute_result"
    }
   ],
   "source": [
    "def is_palindrome(x):\n",
    "    return str(x) == str(x)[::-1]\n",
    "\n",
    "is_palindrome(121)"
   ]
  },
  {
   "cell_type": "code",
   "execution_count": 14,
   "metadata": {},
   "outputs": [
    {
     "data": {
      "text/plain": [
       "87"
      ]
     },
     "execution_count": 14,
     "metadata": {},
     "output_type": "execute_result"
    }
   ],
   "source": [
    "s = 'MCMXCIV'\n",
    "# s = 'XXIV'\n",
    "s = 'MCMLXXXVI' #1986\n",
    "# s = 'LXXX' #80\n",
    "s = 'DCCC' #800\n",
    "s = 'LXXXVII' #87\n",
    "def romanToInt(s):\n",
    "    alph = {'I': 1, 'V': 5, 'X':10, 'L':50, 'C':100, 'D':500, 'M': 1000}\n",
    "    sub = {'IV' : 4, 'IX': 9, 'XL' : 40, 'XC' : 90, 'CD' : 400, 'CM': 900}\n",
    "\n",
    "    tot = 0\n",
    "    i = len(s)-1\n",
    "    while i >= 0:\n",
    "        if i-1 != -1:\n",
    "            item = s[i-1] + s[i]\n",
    "            if item in sub:\n",
    "                tot += sub[item]\n",
    "                i -= 2\n",
    "            else:\n",
    "                tot += alph[s[i]]\n",
    "                i -= 1\n",
    "        else:\n",
    "            tot += alph[s[i]]\n",
    "            break\n",
    "    return tot\n",
    "\n",
    "romanToInt(s)"
   ]
  },
  {
   "cell_type": "code",
   "execution_count": 19,
   "metadata": {},
   "outputs": [
    {
     "data": {
      "text/plain": [
       "'fl'"
      ]
     },
     "execution_count": 19,
     "metadata": {},
     "output_type": "execute_result"
    }
   ],
   "source": [
    "def longestCommonPrefix(strs):\n",
    "    if strs:\n",
    "        lst = [item[i] for i in range(min([len(item) for item in strs])) for item in strs] + [' ']\n",
    "\n",
    "        let = lst[0]\n",
    "        count = 0\n",
    "        tot = 0\n",
    "\n",
    "        for i in lst:\n",
    "            if let == i and count != len(strs):\n",
    "                count += 1\n",
    "            else: \n",
    "                if count == len(strs):\n",
    "                    tot += 1\n",
    "                    let = i\n",
    "                    count = 1\n",
    "                else:\n",
    "                    break\n",
    "\n",
    "        return strs[0][:tot]\n",
    "    else:\n",
    "        return ''\n",
    "    \n",
    "s = [\"flower\",\"flower\",\"flower\"]\n",
    "s = [\"flower\",\"flow\",\"flight\"]\n",
    "# s = [\"dog\",\"racecar\",\"car\"]\n",
    "# s  = [\"aca\",\"cba\"]\n",
    "longestCommonPrefix(s)"
   ]
  },
  {
   "cell_type": "code",
   "execution_count": 44,
   "metadata": {},
   "outputs": [
    {
     "data": {
      "text/plain": [
       "False"
      ]
     },
     "execution_count": 44,
     "metadata": {},
     "output_type": "execute_result"
    }
   ],
   "source": [
    "s = \"()[]{}[]\"\n",
    "# s = \"{([[]])}\"\n",
    "s = \"([)]\"\n",
    "# s = \"(){\"\n",
    "# s = \"(([)])\"\n",
    "# s = \"(([]){})\"\n",
    "\n",
    "def isValid(s: str) -> bool:\n",
    "    base = {\")\": \"(\", \"}\": \"{\", \"]\": \"[\"}\n",
    "    stack = []    \n",
    "\n",
    "    for item in s:\n",
    "        if item in base:\n",
    "            if stack:\n",
    "                top = stack.pop()\n",
    "            else:\n",
    "                top = ''\n",
    "            if base[item] != top:\n",
    "                return False\n",
    "        else:\n",
    "            stack.append(item)\n",
    "    return not stack\n",
    "\n",
    "isValid(s)"
   ]
  },
  {
   "cell_type": "code",
   "execution_count": null,
   "metadata": {},
   "outputs": [],
   "source": []
  }
 ],
 "metadata": {
  "kernelspec": {
   "display_name": "Python 3",
   "language": "python",
   "name": "python3"
  },
  "language_info": {
   "codemirror_mode": {
    "name": "ipython",
    "version": 3
   },
   "file_extension": ".py",
   "mimetype": "text/x-python",
   "name": "python",
   "nbconvert_exporter": "python",
   "pygments_lexer": "ipython3",
   "version": "3.7.1"
  }
 },
 "nbformat": 4,
 "nbformat_minor": 2
}
